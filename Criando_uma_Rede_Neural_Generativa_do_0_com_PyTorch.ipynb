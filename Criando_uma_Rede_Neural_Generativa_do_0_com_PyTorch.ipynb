{
  "nbformat": 4,
  "nbformat_minor": 0,
  "metadata": {
    "colab": {
      "provenance": [],
      "gpuType": "T4",
      "authorship_tag": "ABX9TyPY1E/a80QZ3W7+FR8ir5wu",
      "include_colab_link": true
    },
    "kernelspec": {
      "name": "python3",
      "display_name": "Python 3"
    },
    "language_info": {
      "name": "python"
    },
    "accelerator": "GPU"
  },
  "cells": [
    {
      "cell_type": "markdown",
      "metadata": {
        "id": "view-in-github",
        "colab_type": "text"
      },
      "source": [
        "<a href=\"https://colab.research.google.com/github/sdavibl/DCGAN-with-PyTorch/blob/main/Criando_uma_Rede_Neural_Generativa_do_0_com_PyTorch.ipynb\" target=\"_parent\"><img src=\"https://colab.research.google.com/assets/colab-badge.svg\" alt=\"Open In Colab\"/></a>"
      ]
    },
    {
      "cell_type": "code",
      "execution_count": null,
      "metadata": {
        "id": "Z6w4FrQT6N2C"
      },
      "outputs": [],
      "source": [
        "import torch\n",
        "import torch.nn as nn\n",
        "import os\n",
        "import random\n",
        "import numpy as np\n",
        "import matplotlib.pyplot as plt\n",
        "import pandas as pd\n",
        "import matplotlib.animation as animation\n",
        "from IPython.display import HTML\n",
        "import torch.nn.parallel\n",
        "import torch.optim as optim\n",
        "import torch.utils.data\n",
        "import torchvision.datasets as dset\n",
        "import torchvision.transforms as transforms\n",
        "import torchvision.utils as vutils"
      ]
    },
    {
      "cell_type": "code",
      "source": [
        "seed = 999\n",
        "random.seed(seed)\n",
        "torch.manual_seed(seed)\n",
        "torch.use_deterministic_algorithms(True)"
      ],
      "metadata": {
        "id": "rl9z7L_46oC7"
      },
      "execution_count": null,
      "outputs": []
    },
    {
      "cell_type": "code",
      "source": [
        "dataroot = \"data\"\n",
        "\n",
        "workers = 2\n",
        "\n",
        "batch_size = 128\n",
        "\n",
        "image_size = 64\n",
        "\n",
        "nc = 1\n",
        "\n",
        "nz = 100\n",
        "\n",
        "ngf = 64\n",
        "\n",
        "ndf = 64\n",
        "\n",
        "num_epochs = 5\n",
        "\n",
        "lr = 0.0002\n",
        "\n",
        "beta1 = 0.5\n",
        "\n",
        "ngpu = 1"
      ],
      "metadata": {
        "id": "8MPfW5557D3I"
      },
      "execution_count": null,
      "outputs": []
    },
    {
      "cell_type": "code",
      "source": [
        "dataset = dset.MNIST(root=dataroot,\n",
        "                     download=True,\n",
        "                     transform=transforms.Compose([\n",
        "                         transforms.Resize(image_size),\n",
        "                         transforms.CenterCrop(image_size),\n",
        "                         transforms.ToTensor(),\n",
        "                         transforms.Normalize((0.5), (0.5))\n",
        "                     ]))"
      ],
      "metadata": {
        "id": "7jI3bVlT8WfB"
      },
      "execution_count": null,
      "outputs": []
    },
    {
      "cell_type": "code",
      "source": [],
      "metadata": {
        "id": "fQfmSCQQ84r7"
      },
      "execution_count": null,
      "outputs": []
    }
  ]
}